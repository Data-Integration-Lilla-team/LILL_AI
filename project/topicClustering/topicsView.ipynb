{
 "cells": [
  {
   "cell_type": "code",
   "execution_count": 8,
   "metadata": {},
   "outputs": [],
   "source": [
    "import scipy.io\n",
    "import gensim\n",
    "import gensim.corpora as corpora\n",
    "\n",
    "import pyLDAvis\n",
    "import pyLDAvis.gensim\n",
    "import pandas as pd"
   ]
  },
  {
   "cell_type": "code",
   "execution_count": 9,
   "metadata": {},
   "outputs": [],
   "source": [
    "def sent_to_words(sentences):\n",
    "            for sentence in sentences:\n",
    "                # deacc=True removes punctuations\n",
    "                yield(gensim.utils.simple_preprocess(str(sentence), deacc=True))\n",
    "def get_corpus():\n",
    "            data=pd.read_csv(r\"../index_csv_parsed.csv\")\n",
    "            text_parsed=data[\"parsed_text\"].values.tolist()\n",
    "            data_words = list(sent_to_words(text_parsed))\n",
    "            # Create Dictionary\n",
    "            id2word = corpora.Dictionary(data_words)\n",
    "\n",
    "            \n",
    "\n",
    "            \n",
    "            # Create Corpus\n",
    "            texts = data_words\n",
    "            # Term Document Frequency\n",
    "            corpus = [id2word.doc2bow(text) for text in texts]\n",
    "            \n",
    "            # View\n",
    "            return (corpus,id2word)"
   ]
  },
  {
   "cell_type": "code",
   "execution_count": 10,
   "metadata": {},
   "outputs": [
    {
     "ename": "TypeError",
     "evalue": "sent_to_words() missing 1 required positional argument: 'sentences'",
     "output_type": "error",
     "traceback": [
      "\u001b[1;31m---------------------------------------------------------------------------\u001b[0m",
      "\u001b[1;31mTypeError\u001b[0m                                 Traceback (most recent call last)",
      "Cell \u001b[1;32mIn[10], line 1\u001b[0m\n\u001b[1;32m----> 1\u001b[0m corpus,dic\u001b[39m=\u001b[39mget_corpus()\n\u001b[0;32m      4\u001b[0m lda_model \u001b[39m=\u001b[39m gensim\u001b[39m.\u001b[39mmodels\u001b[39m.\u001b[39mLdaModel\u001b[39m.\u001b[39mload(\u001b[39m\"\u001b[39m\u001b[39mmodel.lda\u001b[39m\u001b[39m\"\u001b[39m)\n",
      "Cell \u001b[1;32mIn[9], line 8\u001b[0m, in \u001b[0;36mget_corpus\u001b[1;34m()\u001b[0m\n\u001b[0;32m      6\u001b[0m data\u001b[39m=\u001b[39mpd\u001b[39m.\u001b[39mread_csv(\u001b[39mr\u001b[39m\u001b[39m\"\u001b[39m\u001b[39m../index_csv_parsed.csv\u001b[39m\u001b[39m\"\u001b[39m)\n\u001b[0;32m      7\u001b[0m text_parsed\u001b[39m=\u001b[39mdata[\u001b[39m\"\u001b[39m\u001b[39mparsed_text\u001b[39m\u001b[39m\"\u001b[39m]\u001b[39m.\u001b[39mvalues\u001b[39m.\u001b[39mtolist()\n\u001b[1;32m----> 8\u001b[0m data_words \u001b[39m=\u001b[39m \u001b[39mlist\u001b[39m(sent_to_words(text_parsed))\n\u001b[0;32m      9\u001b[0m \u001b[39m# Create Dictionary\u001b[39;00m\n\u001b[0;32m     10\u001b[0m id2word \u001b[39m=\u001b[39m corpora\u001b[39m.\u001b[39mDictionary(data_words)\n",
      "\u001b[1;31mTypeError\u001b[0m: sent_to_words() missing 1 required positional argument: 'sentences'"
     ]
    }
   ],
   "source": [
    "corpus,dic=get_corpus()\n",
    "\n",
    "\n",
    "lda_model = gensim.models.LdaModel.load(\"model.lda\")\n",
    "\n"
   ]
  },
  {
   "cell_type": "code",
   "execution_count": 6,
   "metadata": {},
   "outputs": [
    {
     "ename": "IndexError",
     "evalue": "index 1123 is out of bounds for axis 0 with size 1123",
     "output_type": "error",
     "traceback": [
      "\u001b[1;31m---------------------------------------------------------------------------\u001b[0m",
      "\u001b[1;31mIndexError\u001b[0m                                Traceback (most recent call last)",
      "Cell \u001b[1;32mIn[6], line 2\u001b[0m\n\u001b[0;32m      1\u001b[0m pyLDAvis\u001b[39m.\u001b[39menable_notebook()\n\u001b[1;32m----> 2\u001b[0m vis\u001b[39m=\u001b[39mpyLDAvis\u001b[39m.\u001b[39;49mgensim\u001b[39m.\u001b[39;49mprepare(lda_model,corpus,dictionary,mds\u001b[39m=\u001b[39;49m\u001b[39m\"\u001b[39;49m\u001b[39mmmds\u001b[39;49m\u001b[39m\"\u001b[39;49m,R\u001b[39m=\u001b[39;49m\u001b[39m10\u001b[39;49m)\n\u001b[0;32m      3\u001b[0m vis\n",
      "File \u001b[1;32mc:\\Users\\Wissel\\OneDrive\\Desktop\\università\\MAGISTRALE\\SII\\Progetto_SII\\LILL_AI\\project\\.venv\\lib\\site-packages\\pyLDAvis\\gensim.py:122\u001b[0m, in \u001b[0;36mprepare\u001b[1;34m(topic_model, corpus, dictionary, doc_topic_dist, **kwargs)\u001b[0m\n\u001b[0;32m     77\u001b[0m \u001b[39mdef\u001b[39;00m \u001b[39mprepare\u001b[39m(topic_model, corpus, dictionary, doc_topic_dist\u001b[39m=\u001b[39m\u001b[39mNone\u001b[39;00m, \u001b[39m*\u001b[39m\u001b[39m*\u001b[39mkwargs):\n\u001b[0;32m     78\u001b[0m \u001b[39m    \u001b[39m\u001b[39m\"\"\"Transforms the Gensim TopicModel and related corpus and dictionary into\u001b[39;00m\n\u001b[0;32m     79\u001b[0m \u001b[39m    the data structures needed for the visualization.\u001b[39;00m\n\u001b[0;32m     80\u001b[0m \n\u001b[1;32m   (...)\u001b[0m\n\u001b[0;32m    120\u001b[0m \u001b[39m    See `pyLDAvis.prepare` for **kwargs.\u001b[39;00m\n\u001b[0;32m    121\u001b[0m \u001b[39m    \"\"\"\u001b[39;00m\n\u001b[1;32m--> 122\u001b[0m     opts \u001b[39m=\u001b[39m fp\u001b[39m.\u001b[39mmerge(_extract_data(topic_model, corpus, dictionary, doc_topic_dist), kwargs)\n\u001b[0;32m    123\u001b[0m     \u001b[39mreturn\u001b[39;00m vis_prepare(\u001b[39m*\u001b[39m\u001b[39m*\u001b[39mopts)\n",
      "File \u001b[1;32mc:\\Users\\Wissel\\OneDrive\\Desktop\\università\\MAGISTRALE\\SII\\Progetto_SII\\LILL_AI\\project\\.venv\\lib\\site-packages\\pyLDAvis\\gensim.py:28\u001b[0m, in \u001b[0;36m_extract_data\u001b[1;34m(topic_model, corpus, dictionary, doc_topic_dists)\u001b[0m\n\u001b[0;32m     26\u001b[0m beta \u001b[39m=\u001b[39m \u001b[39m0.01\u001b[39m\n\u001b[0;32m     27\u001b[0m fnames_argsort \u001b[39m=\u001b[39m np\u001b[39m.\u001b[39masarray(\u001b[39mlist\u001b[39m(dictionary\u001b[39m.\u001b[39mtoken2id\u001b[39m.\u001b[39mvalues()), dtype\u001b[39m=\u001b[39mnp\u001b[39m.\u001b[39mint_)\n\u001b[1;32m---> 28\u001b[0m term_freqs \u001b[39m=\u001b[39m corpus_csc\u001b[39m.\u001b[39;49msum(axis\u001b[39m=\u001b[39;49m\u001b[39m1\u001b[39;49m)\u001b[39m.\u001b[39;49mA\u001b[39m.\u001b[39;49mravel()[fnames_argsort]\n\u001b[0;32m     29\u001b[0m term_freqs[term_freqs \u001b[39m==\u001b[39m \u001b[39m0\u001b[39m] \u001b[39m=\u001b[39m beta\n\u001b[0;32m     30\u001b[0m doc_lengths \u001b[39m=\u001b[39m corpus_csc\u001b[39m.\u001b[39msum(axis\u001b[39m=\u001b[39m\u001b[39m0\u001b[39m)\u001b[39m.\u001b[39mA\u001b[39m.\u001b[39mravel()\n",
      "\u001b[1;31mIndexError\u001b[0m: index 1123 is out of bounds for axis 0 with size 1123"
     ]
    }
   ],
   "source": [
    "pyLDAvis.enable_notebook()\n",
    "vis=pyLDAvis.gensim.prepare(lda_model,corpus,dictionary,mds=\"mmds\",R=10)\n",
    "vis"
   ]
  }
 ],
 "metadata": {
  "kernelspec": {
   "display_name": ".venv",
   "language": "python",
   "name": "python3"
  },
  "language_info": {
   "codemirror_mode": {
    "name": "ipython",
    "version": 3
   },
   "file_extension": ".py",
   "mimetype": "text/x-python",
   "name": "python",
   "nbconvert_exporter": "python",
   "pygments_lexer": "ipython3",
   "version": "3.9.5"
  },
  "orig_nbformat": 4
 },
 "nbformat": 4,
 "nbformat_minor": 2
}
